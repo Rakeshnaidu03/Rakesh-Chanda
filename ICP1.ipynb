{
  "nbformat": 4,
  "nbformat_minor": 0,
  "metadata": {
    "colab": {
      "provenance": [],
      "authorship_tag": "ABX9TyMiLrn0oPCq0PpdUVAONpIn",
      "include_colab_link": true
    },
    "kernelspec": {
      "name": "python3",
      "display_name": "Python 3"
    },
    "language_info": {
      "name": "python"
    }
  },
  "cells": [
    {
      "cell_type": "markdown",
      "metadata": {
        "id": "view-in-github",
        "colab_type": "text"
      },
      "source": [
        "<a href=\"https://colab.research.google.com/github/Rakeshnaidu03/Rakesh-Chanda/blob/main/ICP1.ipynb\" target=\"_parent\"><img src=\"https://colab.research.google.com/assets/colab-badge.svg\" alt=\"Open In Colab\"/></a>"
      ]
    },
    {
      "cell_type": "code",
      "execution_count": 32,
      "metadata": {
        "colab": {
          "base_uri": "https://localhost:8080/"
        },
        "id": "S6G-HV_0DZiY",
        "outputId": "371ee28e-9cf9-4055-c40d-9d8b1bbfe642"
      },
      "outputs": [
        {
          "output_type": "stream",
          "name": "stdout",
          "text": [
            "Enter a string: python\n",
            "htyp\n"
          ]
        }
      ],
      "source": [
        "input_str = input(\"Enter a string: \")\n",
        "\n",
        "char_list = list(input_str)\n",
        "\n",
        "del char_list[-2:]\n",
        "\n",
        "char_list.reverse()\n",
        "\n",
        "output_str = \"\".join(char_list)\n",
        "\n",
        "print(output_str)"
      ]
    },
    {
      "cell_type": "code",
      "source": [
        "num1 = float(input(\"Enter first number: \"))\n",
        "num2 = float(input(\"Enter second number: \"))\n",
        "\n",
        "# Addition\n",
        "add = num1 + num2\n",
        "print(num1,\"+\",num2,\"=\",add)\n",
        "\n",
        "# Subtraction\n",
        "sub = num1 - num2\n",
        "print(num1,\"-\",num2,\"=\",sub)\n",
        "\n",
        "# Multiplication\n",
        "mul = num1 * num2\n",
        "print(num1,\"*\",num2,\"=\",mul)\n",
        "\n",
        "# Division\n",
        "div = num1 / num2\n",
        "print(num1,\"/\",num2,\"=\",div)\n",
        "\n"
      ],
      "metadata": {
        "colab": {
          "base_uri": "https://localhost:8080/"
        },
        "id": "TJxECKaKG6Kn",
        "outputId": "6b4ab16d-2a87-4e47-ed18-0571f3f01990"
      },
      "execution_count": 7,
      "outputs": [
        {
          "output_type": "stream",
          "name": "stdout",
          "text": [
            "Enter first number: 11\n",
            "Enter second number: 11\n",
            "11.0 + 11.0 = 22.0\n",
            "11.0 - 11.0 = 0.0\n",
            "11.0 * 11.0 = 121.0\n",
            "11.0 / 11.0 = 1.0\n"
          ]
        }
      ]
    },
    {
      "cell_type": "code",
      "source": [
        "input_sentence = input(\"Enter a sentence: \")\n",
        "\n",
        "output_sentence = input_sentence.replace(\"python\", \"pythons\")\n",
        "\n",
        "print(\"Original sentence:\", input_sentence)\n",
        "print(\"Modified sentence:\", output_sentence)"
      ],
      "metadata": {
        "colab": {
          "base_uri": "https://localhost:8080/"
        },
        "id": "tfMMwRxzHmgm",
        "outputId": "c4939ebe-d2db-4bbf-f277-e826c2beed65"
      },
      "execution_count": 22,
      "outputs": [
        {
          "output_type": "stream",
          "name": "stdout",
          "text": [
            "Enter a sentence: i love playing with python\n",
            "Original sentence: i love playing with python\n",
            "Modified sentence: i love playing with pythons\n"
          ]
        }
      ]
    },
    {
      "cell_type": "code",
      "source": [
        "score = float(input(\"Enter your class score (0-100): \"))\n",
        "\n",
        "if score >= 90:\n",
        "    print(\"Your grade is A\")\n",
        "elif score >= 80:\n",
        "    print(\"Your grade is B\")\n",
        "elif score >= 70:\n",
        "    print(\"Your grade is C\")\n",
        "elif score >= 60:\n",
        "    print(\"Your grade is D\")\n",
        "else:\n",
        "    print(\"Your grade is F\")"
      ],
      "metadata": {
        "colab": {
          "base_uri": "https://localhost:8080/"
        },
        "id": "JhJWwRuWNKJp",
        "outputId": "ae244c92-c419-47f2-bfdd-a225d6e2e892"
      },
      "execution_count": 23,
      "outputs": [
        {
          "output_type": "stream",
          "name": "stdout",
          "text": [
            "Enter your class score (0-100): 65\n",
            "Your grade is D\n"
          ]
        }
      ]
    }
  ]
}
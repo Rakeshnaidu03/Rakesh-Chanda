{
  "nbformat": 4,
  "nbformat_minor": 0,
  "metadata": {
    "colab": {
      "provenance": [],
      "authorship_tag": "ABX9TyNbHQ8B2/jlz+3AlqhIVg1J",
      "include_colab_link": true
    },
    "kernelspec": {
      "name": "python3",
      "display_name": "Python 3"
    },
    "language_info": {
      "name": "python"
    }
  },
  "cells": [
    {
      "cell_type": "markdown",
      "metadata": {
        "id": "view-in-github",
        "colab_type": "text"
      },
      "source": [
        "<a href=\"https://colab.research.google.com/github/Rakeshnaidu03/Rakesh-Chanda/blob/main/RakeshChanda_ICP3.ipynb\" target=\"_parent\"><img src=\"https://colab.research.google.com/assets/colab-badge.svg\" alt=\"Open In Colab\"/></a>"
      ]
    },
    {
      "cell_type": "code",
      "execution_count": 7,
      "metadata": {
        "colab": {
          "base_uri": "https://localhost:8080/"
        },
        "id": "zF07i3zAIPzR",
        "outputId": "0bdacffe-0085-4f51-e017-94a0ebb5f2a8"
      },
      "outputs": [
        {
          "output_type": "stream",
          "name": "stdout",
          "text": [
            "Array Shape:\n",
            "(3, 5)\n",
            "\n",
            "Modified Array:\n",
            "[[14 12  0  2 14]\n",
            " [ 8  7  4  0  1]\n",
            " [10  8 12  0 12]]\n"
          ]
        }
      ],
      "source": [
        "import numpy as np\n",
        "\n",
        "# Create a random vector of size 15 with integers in the range 1-20\n",
        "random_vector = np.random.randint(1, 21, size=15)\n",
        "\n",
        "# Reshape the array to 3 by 5\n",
        "reshaped_array = random_vector.reshape(3, 5)\n",
        "\n",
        "# Print the array shape\n",
        "print(\"Array Shape:\")\n",
        "print(reshaped_array.shape)\n",
        "\n",
        "# Replace the max in each row by 0\n",
        "for row in reshaped_array:\n",
        "    max_value = np.max(row)\n",
        "    row[row == max_value] = 0\n",
        "\n",
        "# Print the modified array\n",
        "print(\"\\nModified Array:\")\n",
        "print(reshaped_array)\n",
        "\n"
      ]
    },
    {
      "cell_type": "code",
      "source": [
        "import numpy as np\n",
        "\n",
        "# Create a 2-dimensional array of size 4x3 with 4-byte integer elements\n",
        "array_2d = np.zeros((4, 3), dtype=np.int32)\n",
        "\n",
        "# Print the shape of the array\n",
        "print(\"Array Shape:\", array_2d.shape)\n",
        "\n",
        "# Print the type of the array\n",
        "print(\"Array Type:\", type(array_2d))\n",
        "\n",
        "# Print the data type of the array elements\n",
        "print(\"Data Type of Array Elements:\", array_2d.dtype)\n"
      ],
      "metadata": {
        "colab": {
          "base_uri": "https://localhost:8080/"
        },
        "id": "AFSz4wEvJ95d",
        "outputId": "fa56ad13-2e97-4547-9003-286a5824d78c"
      },
      "execution_count": 10,
      "outputs": [
        {
          "output_type": "stream",
          "name": "stdout",
          "text": [
            "Array Shape: (4, 3)\n",
            "Array Type: <class 'numpy.ndarray'>\n",
            "Data Type of Array Elements: int32\n"
          ]
        }
      ]
    },
    {
      "cell_type": "code",
      "source": [
        "import numpy as np\n",
        "\n",
        "# Create the given array\n",
        "array = np.array([[0, 1, 2],\n",
        "                  [3, 4, 5]])\n",
        "\n",
        "# Calculate the sum of the diagonal elements\n",
        "diagonal_sum = np.trace(array)\n",
        "\n",
        "# Print the sum of the diagonal elements\n",
        "print(\"Sum of diagonal elements:\", diagonal_sum)\n"
      ],
      "metadata": {
        "colab": {
          "base_uri": "https://localhost:8080/"
        },
        "id": "VMOwt9yOKAki",
        "outputId": "584e6f68-4b59-4077-c139-d4356f25b913"
      },
      "execution_count": 12,
      "outputs": [
        {
          "output_type": "stream",
          "name": "stdout",
          "text": [
            "Sum of diagonal elements: 4\n"
          ]
        }
      ]
    },
    {
      "cell_type": "code",
      "source": [
        "import numpy as np\n",
        "\n",
        "# Create an array of odd numbers between 10 and 70\n",
        "odd_array = np.arange(11, 71, 2)\n",
        "\n",
        "# Create an array of even numbers between 10 and 70\n",
        "even_array = np.arange(10, 71, 2)\n",
        "\n",
        "# Print both arrays\n",
        "print(\"Odd Numbers Array:\", odd_array)\n",
        "print(\"Even Numbers Array:\", even_array)\n"
      ],
      "metadata": {
        "colab": {
          "base_uri": "https://localhost:8080/"
        },
        "id": "ZgB7v4pFKVY6",
        "outputId": "93425ad2-e0a9-4804-802b-4637bb122fb5"
      },
      "execution_count": 13,
      "outputs": [
        {
          "output_type": "stream",
          "name": "stdout",
          "text": [
            "Odd Numbers Array: [11 13 15 17 19 21 23 25 27 29 31 33 35 37 39 41 43 45 47 49 51 53 55 57\n",
            " 59 61 63 65 67 69]\n",
            "Even Numbers Array: [10 12 14 16 18 20 22 24 26 28 30 32 34 36 38 40 42 44 46 48 50 52 54 56\n",
            " 58 60 62 64 66 68 70]\n"
          ]
        }
      ]
    },
    {
      "cell_type": "code",
      "source": [
        "import numpy as np\n",
        "\n",
        "# Create two arrays of the same size\n",
        "array1 = np.array([1, 2, 3, 4])\n",
        "array2 = np.array([5, 6, 7, 8])\n",
        "\n",
        "# Example operations:\n",
        "addition_result = array1 + array2\n",
        "subtraction_result = array1 - array2\n",
        "multiplication_result = array1 * array2\n",
        "\n",
        "# Print the results\n",
        "print(\"Addition Result:\", addition_result)\n",
        "print(\"Subtraction Result:\", subtraction_result)\n",
        "print(\"Multiplication Result:\", multiplication_result)\n"
      ],
      "metadata": {
        "colab": {
          "base_uri": "https://localhost:8080/"
        },
        "id": "VwTpuuhFKp9d",
        "outputId": "665b475e-acf0-444c-9977-2e1bc9dabfdb"
      },
      "execution_count": 15,
      "outputs": [
        {
          "output_type": "stream",
          "name": "stdout",
          "text": [
            "Addition Result: [ 6  8 10 12]\n",
            "Subtraction Result: [-4 -4 -4 -4]\n",
            "Multiplication Result: [ 5 12 21 32]\n"
          ]
        }
      ]
    },
    {
      "cell_type": "code",
      "source": [
        "import numpy as np\n",
        "\n",
        "# Create the given array\n",
        "array = np.array([[5.54, 3.38, 7.99],\n",
        "                  [3.54, 4.38, 6.99],\n",
        "                  [1.54, 2.39, 9.29]])\n",
        "\n",
        "# Sort by row (axis=1) in ascending order\n",
        "sorted_by_row = np.sort(array, axis=1)\n",
        "\n",
        "# Sort by column (axis=0) in ascending order\n",
        "sorted_by_column = np.sort(array, axis=0)\n",
        "\n",
        "# Print the sorted arrays\n",
        "print(\"Sorted by Row (Ascending):\")\n",
        "print(sorted_by_row)\n",
        "\n",
        "print(\"\\nSorted by Column (Ascending):\")\n",
        "print(sorted_by_column)\n"
      ],
      "metadata": {
        "colab": {
          "base_uri": "https://localhost:8080/"
        },
        "id": "p_N6Ipg7K23_",
        "outputId": "b7d20c68-75a0-4246-eac7-ea90602d4976"
      },
      "execution_count": 16,
      "outputs": [
        {
          "output_type": "stream",
          "name": "stdout",
          "text": [
            "Sorted by Row (Ascending):\n",
            "[[3.38 5.54 7.99]\n",
            " [3.54 4.38 6.99]\n",
            " [1.54 2.39 9.29]]\n",
            "\n",
            "Sorted by Column (Ascending):\n",
            "[[1.54 2.39 6.99]\n",
            " [3.54 3.38 7.99]\n",
            " [5.54 4.38 9.29]]\n"
          ]
        }
      ]
    },
    {
      "cell_type": "code",
      "source": [
        "import numpy as np\n",
        "\n",
        "# Create the array with NaN values\n",
        "array = np.array([[4, 2, np.nan, 1],\n",
        "                  [11, 12, 14, 9],\n",
        "                  [5, np.nan, 1, np.nan]])\n",
        "\n",
        "# Find missing data by returning a Boolean array (True for NaN values, False otherwise)\n",
        "missing_data_mask = np.isnan(array)\n",
        "\n",
        "# Print the Boolean array\n",
        "print(\"Missing Data (True/False):\")\n",
        "print(missing_data_mask)\n",
        "\n"
      ],
      "metadata": {
        "colab": {
          "base_uri": "https://localhost:8080/"
        },
        "id": "yvhbuZ0-K6-a",
        "outputId": "08535ee2-4b74-4585-99e9-590a36a8b6fc"
      },
      "execution_count": 19,
      "outputs": [
        {
          "output_type": "stream",
          "name": "stdout",
          "text": [
            "Missing Data (True/False):\n",
            "[[False False  True False]\n",
            " [False False False False]\n",
            " [False  True False  True]]\n"
          ]
        }
      ]
    }
  ]
}
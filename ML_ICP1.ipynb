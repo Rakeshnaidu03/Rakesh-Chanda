{
  "nbformat": 4,
  "nbformat_minor": 0,
  "metadata": {
    "colab": {
      "provenance": [],
      "authorship_tag": "ABX9TyPO7kYR/gaUbVy/lTz6e/cR",
      "include_colab_link": true
    },
    "kernelspec": {
      "name": "python3",
      "display_name": "Python 3"
    },
    "language_info": {
      "name": "python"
    }
  },
  "cells": [
    {
      "cell_type": "markdown",
      "metadata": {
        "id": "view-in-github",
        "colab_type": "text"
      },
      "source": [
        "<a href=\"https://colab.research.google.com/github/Rakeshnaidu03/Rakesh-Chanda/blob/main/ML_ICP1.ipynb\" target=\"_parent\"><img src=\"https://colab.research.google.com/assets/colab-badge.svg\" alt=\"Open In Colab\"/></a>"
      ]
    },
    {
      "cell_type": "code",
      "execution_count": 1,
      "metadata": {
        "colab": {
          "base_uri": "https://localhost:8080/"
        },
        "id": "NskcW9rxLjTj",
        "outputId": "3372ddc9-fc53-4f71-c4af-35bbbdff2333"
      },
      "outputs": [
        {
          "output_type": "stream",
          "name": "stdout",
          "text": [
            "Sorted ages: [19, 19, 20, 22, 24, 24, 24, 25, 25, 26, 19, 26]\n",
            "Min age: 19\n",
            "Max age: 26\n",
            "Median age: 24.0\n",
            "Average age: 22.75\n",
            "Age range: 7\n"
          ]
        }
      ],
      "source": [
        "# List of ages\n",
        "ages = [19, 22, 19, 24, 20, 25, 26, 24, 25, 24]\n",
        "\n",
        "# Sort the list\n",
        "ages.sort()\n",
        "\n",
        "# Find the min and max age\n",
        "min_age = ages[0]\n",
        "max_age = ages[-1]\n",
        "\n",
        "# Add the min and max age again to the list\n",
        "ages.extend([min_age, max_age])\n",
        "\n",
        "# Find the median age\n",
        "n = len(ages)\n",
        "if n % 2 == 0:\n",
        "    median_age = (ages[n // 2 - 1] + ages[n // 2]) / 2\n",
        "else:\n",
        "    median_age = ages[n // 2]\n",
        "\n",
        "# Find the average age\n",
        "average_age = sum(ages) / len(ages)\n",
        "\n",
        "# Find the range of the ages\n",
        "age_range = max_age - min_age\n",
        "\n",
        "# Print the results\n",
        "print(\"Sorted ages:\", ages)\n",
        "print(\"Min age:\", min_age)\n",
        "print(\"Max age:\", max_age)\n",
        "print(\"Median age:\", median_age)\n",
        "print(\"Average age:\", average_age)\n",
        "print(\"Age range:\", age_range)\n",
        "\n"
      ]
    },
    {
      "cell_type": "code",
      "source": [
        "# Create an empty dictionary called dog\n",
        "dog = {}\n",
        "\n",
        "# Add name, color, breed, legs, age to the dog dictionary\n",
        "dog['name'] = 'Fido'\n",
        "dog['color'] = 'Brown'\n",
        "dog['breed'] = 'Labrador'\n",
        "dog['legs'] = 4\n",
        "dog['age'] = 3\n",
        "\n",
        "# Create a student dictionary\n",
        "student = {\n",
        "    'first_name': 'John',\n",
        "    'last_name': 'Doe',\n",
        "    'gender': 'Male',\n",
        "    'age': 25,\n",
        "    'marital_status': 'Single',\n",
        "    'skills': ['Python', 'JavaScript'],\n",
        "    'country': 'USA',\n",
        "    'city': 'New York',\n",
        "    'address': '123 Main St'\n",
        "}\n",
        "\n",
        "# Get the length of the student dictionary\n",
        "student_length = len(student)\n",
        "\n",
        "# Get the value of skills and check the data type\n",
        "skills_value = student['skills']\n",
        "skills_data_type = type(skills_value)\n",
        "\n",
        "# Modify the skills values by adding one or two skills\n",
        "student['skills'].extend(['HTML', 'CSS'])\n",
        "\n",
        "# Get the dictionary keys as a list\n",
        "student_keys = list(student.keys())\n",
        "\n",
        "# Get the dictionary values as a list\n",
        "student_values = list(student.values())\n",
        "\n",
        "# Print the results\n",
        "print(\"Length of the student dictionary:\", student_length)\n",
        "print(\"Data type of skills value:\", skills_data_type)\n",
        "print(\"Modified skills value:\", student['skills'])\n",
        "print(\"Keys of the student dictionary:\", student_keys)\n",
        "print(\"Values of the student dictionary:\", student_values)\n"
      ],
      "metadata": {
        "colab": {
          "base_uri": "https://localhost:8080/"
        },
        "id": "bL9iisp8MBDU",
        "outputId": "ebeb79c8-bf7f-44d7-c755-d418136a648a"
      },
      "execution_count": 2,
      "outputs": [
        {
          "output_type": "stream",
          "name": "stdout",
          "text": [
            "Length of the student dictionary: 9\n",
            "Data type of skills value: <class 'list'>\n",
            "Modified skills value: ['Python', 'JavaScript', 'HTML', 'CSS']\n",
            "Keys of the student dictionary: ['first_name', 'last_name', 'gender', 'age', 'marital_status', 'skills', 'country', 'city', 'address']\n",
            "Values of the student dictionary: ['John', 'Doe', 'Male', 25, 'Single', ['Python', 'JavaScript', 'HTML', 'CSS'], 'USA', 'New York', '123 Main St']\n"
          ]
        }
      ]
    },
    {
      "cell_type": "code",
      "source": [
        "# Create a tuple containing names of your sisters and your brothers\n",
        "sisters = ('Anna', 'Emily')\n",
        "brothers = ('John', 'Michael', 'Daniel')\n",
        "\n",
        "# Join brothers and sisters tuples and assign it to siblings\n",
        "siblings = sisters + brothers\n",
        "\n",
        "# How many siblings do you have?\n",
        "num_siblings = len(siblings)\n",
        "\n",
        "# Modify the siblings tuple and add the name of your father and mother and assign it to family_members\n",
        "father = 'John Sr.'\n",
        "mother = 'Mary'\n",
        "family_members = (father, mother) + siblings\n",
        "\n",
        "# Print the results\n",
        "print(\"Number of siblings I have:\", num_siblings)\n",
        "print(\"Family members:\", family_members)\n"
      ],
      "metadata": {
        "colab": {
          "base_uri": "https://localhost:8080/"
        },
        "id": "JCyCBpESMfS2",
        "outputId": "7b14c89f-5716-4682-973c-6824c5cae0b9"
      },
      "execution_count": 3,
      "outputs": [
        {
          "output_type": "stream",
          "name": "stdout",
          "text": [
            "Number of siblings I have: 5\n",
            "Family members: ('John Sr.', 'Mary', 'Anna', 'Emily', 'John', 'Michael', 'Daniel')\n"
          ]
        }
      ]
    },
    {
      "cell_type": "code",
      "source": [
        "\n",
        "it_companies = {'Facebook', 'Google', 'Microsoft', 'Apple', 'IBM', 'Oracle', 'Amazon'}\n",
        "\n",
        "# Find the length of the set it_companies\n",
        "print(\"Length of it_companies:\", len(it_companies))\n",
        "\n",
        "# Add 'Twitter' to it_companies\n",
        "it_companies.add('Twitter')\n",
        "print(\"it_companies after adding 'Twitter':\", it_companies)\n",
        "\n",
        "# Insert multiple IT companies at once to the set it_companies\n",
        "new_companies = {'Netflix', 'Spotify'}\n",
        "it_companies.update(new_companies)\n",
        "print(\"it_companies after adding multiple companies:\", it_companies)\n",
        "\n",
        "# Remove one of the companies from the set it_companies\n",
        "it_companies.remove('IBM')\n",
        "print(\"it_companies after removing 'IBM':\", it_companies)\n",
        "\n",
        "# Difference between remove and discard\n",
        "# remove raises an error if the item is not found, while discard does nothing\n",
        "try:\n",
        "  it_companies.remove('NonexistentCompany')\n",
        "except KeyError:\n",
        "  print(\"remove raises KeyError for non-existent items\")\n",
        "\n",
        "it_companies.discard('NonexistentCompany')\n",
        "print(\"discard does nothing for non-existent items\")\n",
        "\n",
        "# Join A and B\n",
        "A = {19, 22, 24, 20, 25, 26}\n",
        "B = {19, 22, 20, 25, 26, 24, 28, 27}\n",
        "C = A.union(B)\n",
        "print(\"Join of A and B:\", C)\n",
        "\n",
        "# Find A intersection B\n",
        "intersection = A.intersection(B)\n",
        "print(\"Intersection of A and B:\", intersection)\n",
        "\n",
        "# Is A subset of B\n",
        "is_subset = A.issubset(B)\n",
        "print(\"Is A subset of B:\", is_subset)\n",
        "\n",
        "# Are A and B disjoint sets\n",
        "is_disjoint = A.isdisjoint(B)\n",
        "print(\"Are A and B disjoint sets:\", is_disjoint)\n",
        "\n",
        "# Join A with B and B with A\n",
        "join_A_B = A.union(B)\n",
        "join_B_A = B.union(A)\n",
        "print(\"Join of A with B and B with A (should be the same):\", join_A_B, join_B_A)\n",
        "\n",
        "# Symmetric difference between A and B\n",
        "symmetric_difference = A.symmetric_difference(B)\n",
        "print(\"Symmetric difference between A and B:\", symmetric_difference)\n",
        "\n",
        "# Delete the sets completely\n",
        "del A, B, C, intersection, is_subset, is_disjoint, join_A_B, join_B_A, symmetric_difference\n",
        "\n",
        "# Convert the ages to a set and compare the length of the list and the set.\n",
        "ages = [22, 19, 24, 25, 26, 24, 25, 24]\n",
        "ages_set = set(ages)\n",
        "print(\"Length of the list:\", len(ages))\n",
        "print(\"Length of the set:\", len(ages_set))\n",
        "print(\"Difference in length:\", len(ages) - len(ages_set))"
      ],
      "metadata": {
        "colab": {
          "base_uri": "https://localhost:8080/"
        },
        "id": "CAf53g3aM9mG",
        "outputId": "e046cf7c-a042-4ecb-da51-dbd854dbc478"
      },
      "execution_count": 5,
      "outputs": [
        {
          "output_type": "stream",
          "name": "stdout",
          "text": [
            "Length of it_companies: 7\n",
            "it_companies after adding 'Twitter': {'Oracle', 'Facebook', 'Twitter', 'IBM', 'Google', 'Amazon', 'Apple', 'Microsoft'}\n",
            "it_companies after adding multiple companies: {'Spotify', 'Google', 'Netflix', 'Amazon', 'Apple', 'Oracle', 'IBM', 'Twitter', 'Facebook', 'Microsoft'}\n",
            "it_companies after removing 'IBM': {'Spotify', 'Google', 'Netflix', 'Amazon', 'Apple', 'Oracle', 'Twitter', 'Facebook', 'Microsoft'}\n",
            "remove raises KeyError for non-existent items\n",
            "discard does nothing for non-existent items\n",
            "Join of A and B: {19, 20, 22, 24, 25, 26, 27, 28}\n",
            "Intersection of A and B: {19, 20, 22, 24, 25, 26}\n",
            "Is A subset of B: True\n",
            "Are A and B disjoint sets: False\n",
            "Join of A with B and B with A (should be the same): {19, 20, 22, 24, 25, 26, 27, 28} {19, 20, 22, 24, 25, 26, 27, 28}\n",
            "Symmetric difference between A and B: {27, 28}\n",
            "Length of the list: 8\n",
            "Length of the set: 5\n",
            "Difference in length: 3\n"
          ]
        }
      ]
    },
    {
      "cell_type": "code",
      "source": [
        "import math\n",
        "\n",
        "# Given radius\n",
        "radius = 30\n",
        "\n",
        "# Calculate the area of a circle\n",
        "area_of_circle = math.pi * radius ** 2\n",
        "\n",
        "# Calculate the circumference of a circle\n",
        "circum_of_circle = 2 * math.pi * radius\n",
        "\n",
        "# Print the calculated values\n",
        "print(\"Area of the circle:\", area_of_circle)\n",
        "print(\"Circumference of the circle:\", circum_of_circle)\n",
        "\n",
        "# Take radius as user input and calculate the area\n",
        "user_radius = float(input(\"Enter the radius of the circle: \"))\n",
        "area_user_circle = math.pi * user_radius ** 2\n",
        "print(\"Area of the circle with radius\", user_radius, \"is:\", area_user_circle)\n",
        "\n"
      ],
      "metadata": {
        "colab": {
          "base_uri": "https://localhost:8080/"
        },
        "id": "0jbQTNkZNqlc",
        "outputId": "cc0cdfc5-fa7a-4038-ee50-c6e4f64dd448"
      },
      "execution_count": 6,
      "outputs": [
        {
          "output_type": "stream",
          "name": "stdout",
          "text": [
            "Area of the circle: 2827.4333882308138\n",
            "Circumference of the circle: 188.49555921538757\n",
            "Enter the radius of the circle: 20\n",
            "Area of the circle with radius 20.0 is: 1256.6370614359173\n"
          ]
        }
      ]
    },
    {
      "cell_type": "code",
      "source": [
        "# Given sentence\n",
        "sentence = \"I am a teacher and I love to inspire and teach people\"\n",
        "\n",
        "# Split the sentence into words and convert to set to get unique words\n",
        "unique_words = set(sentence.split())\n",
        "\n",
        "# Count the number of unique words\n",
        "num_unique_words = len(unique_words)\n",
        "\n",
        "# Print the number of unique words\n",
        "print(\"Number of unique words:\", num_unique_words)\n",
        "\n"
      ],
      "metadata": {
        "colab": {
          "base_uri": "https://localhost:8080/"
        },
        "id": "aELu8UK9OAFU",
        "outputId": "80f35d45-f8d7-4e8c-c8a6-fc86a4e49d8f"
      },
      "execution_count": 9,
      "outputs": [
        {
          "output_type": "stream",
          "name": "stdout",
          "text": [
            "Number of unique words: 10\n"
          ]
        }
      ]
    },
    {
      "cell_type": "code",
      "source": [
        "print(\"Name\\tAge\\tCountry\\tCity\")\n",
        "print(\"Asabeneh\\t250\\tFinland\\tHelsinki\")\n",
        "\n"
      ],
      "metadata": {
        "colab": {
          "base_uri": "https://localhost:8080/"
        },
        "id": "9kvRMD_rOX6G",
        "outputId": "ca2f6930-cba9-4e25-b758-d031057c860b"
      },
      "execution_count": 10,
      "outputs": [
        {
          "output_type": "stream",
          "name": "stdout",
          "text": [
            "Name\tAge\tCountry\tCity\n",
            "Asabeneh\t250\tFinland\tHelsinki\n"
          ]
        }
      ]
    },
    {
      "cell_type": "code",
      "source": [
        "radius = 10\n",
        "area = 3.14 * radius ** 2\n",
        "\n",
        "# Using f-string for string formatting\n",
        "print(f\"The area of a circle with radius {radius} is {area} meters square.\")\n"
      ],
      "metadata": {
        "colab": {
          "base_uri": "https://localhost:8080/"
        },
        "id": "aj3PNTtOOk1N",
        "outputId": "b5b70986-d7c8-49ed-e984-cac053b83270"
      },
      "execution_count": 12,
      "outputs": [
        {
          "output_type": "stream",
          "name": "stdout",
          "text": [
            "The area of a circle with radius 10 is 314.0 meters square.\n"
          ]
        }
      ]
    },
    {
      "cell_type": "code",
      "source": [
        "# Read the number of students from the user\n",
        "N = int(input(\"Enter the number of students: \"))\n",
        "\n",
        "# Initialize an empty list to store weights in pounds\n",
        "weights_lbs = []\n",
        "\n",
        "# Read weights in pounds from the user\n",
        "for i in range(N):\n",
        "    weight_lbs = float(input(f\"Enter weight of student {i+1} in pounds: \"))\n",
        "    weights_lbs.append(weight_lbs)\n",
        "\n",
        "# Convert weights from pounds to kilograms and store them in a separate list\n",
        "weights_kg = []\n",
        "for weight_lbs in weights_lbs:\n",
        "    weight_kg = weight_lbs * 0.45359237  # 1 pound is approximately equal to 0.45359237 kilograms\n",
        "    weights_kg.append(round(weight_kg, 2))  # Round to 2 decimal places\n",
        "\n",
        "# Print the weights in kilograms\n",
        "print(\"Weights in kilograms:\", weights_kg)\n",
        "\n"
      ],
      "metadata": {
        "colab": {
          "base_uri": "https://localhost:8080/"
        },
        "id": "YZsgOZbEO4mn",
        "outputId": "f861b39a-d4f0-4af9-c076-9a315a5eea36"
      },
      "execution_count": 13,
      "outputs": [
        {
          "output_type": "stream",
          "name": "stdout",
          "text": [
            "Enter the number of students: 5\n",
            "Enter weight of student 1 in pounds: 60\n",
            "Enter weight of student 2 in pounds: 54\n",
            "Enter weight of student 3 in pounds: 5\n",
            "Enter weight of student 4 in pounds: 76\n",
            "Enter weight of student 5 in pounds: 87\n",
            "Weights in kilograms: [27.22, 24.49, 2.27, 34.47, 39.46]\n"
          ]
        }
      ]
    }
  ]
}
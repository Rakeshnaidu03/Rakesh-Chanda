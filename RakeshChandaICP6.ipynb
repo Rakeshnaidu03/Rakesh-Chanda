{
  "nbformat": 4,
  "nbformat_minor": 0,
  "metadata": {
    "colab": {
      "provenance": [],
      "gpuType": "T4",
      "include_colab_link": true
    },
    "kernelspec": {
      "name": "python3",
      "display_name": "Python 3"
    },
    "language_info": {
      "name": "python"
    },
    "accelerator": "GPU"
  },
  "cells": [
    {
      "cell_type": "markdown",
      "metadata": {
        "id": "view-in-github",
        "colab_type": "text"
      },
      "source": [
        "<a href=\"https://colab.research.google.com/github/Rakeshnaidu03/Rakesh-Chanda/blob/main/RakeshChandaICP6.ipynb\" target=\"_parent\"><img src=\"https://colab.research.google.com/assets/colab-badge.svg\" alt=\"Open In Colab\"/></a>"
      ]
    },
    {
      "cell_type": "code",
      "execution_count": 1,
      "metadata": {
        "id": "XdNlr5jSYWik",
        "colab": {
          "base_uri": "https://localhost:8080/"
        },
        "outputId": "1851b2e6-31d5-459f-fe23-d716c77d6550"
      },
      "outputs": [
        {
          "output_type": "stream",
          "name": "stdout",
          "text": [
            "Mounted at /content/gdrive\n"
          ]
        }
      ],
      "source": [
        "from google.colab import drive\n",
        "drive.mount('/content/gdrive')"
      ]
    },
    {
      "cell_type": "code",
      "source": [
        "path_to_csv = '/content/gdrive/My Drive/diabetes(1).csv'"
      ],
      "metadata": {
        "id": "_r3MUyfgE-IQ"
      },
      "execution_count": 2,
      "outputs": []
    },
    {
      "cell_type": "markdown",
      "source": [
        "# New Section"
      ],
      "metadata": {
        "id": "oh2yYnM0Dsz7"
      }
    },
    {
      "cell_type": "code",
      "source": [
        "# Add more Dense layers to the existing code and check how the accuracy changes\n",
        "import keras\n",
        "import pandas as pd\n",
        "from keras.models import Sequential\n",
        "from keras.layers import Dense\n",
        "\n",
        "# load dataset\n",
        "from sklearn.model_selection import train_test_split\n",
        "import numpy as np\n",
        "\n",
        "dataset = pd.read_csv(path_to_csv, header=None).values\n",
        "\n",
        "X_train, X_test, Y_train, Y_test = train_test_split(dataset[:,0:8], dataset[:,8], test_size=0.1, random_state=30)\n",
        "\n",
        "np.random.seed(155)\n",
        "\n",
        "my_first_nn = Sequential()\n",
        "my_first_nn.add(Dense(55, activation='relu', input_shape=(8,)))\n",
        "my_first_nn.add(Dense(8, activation='relu'))\n",
        "my_first_nn.add(Dense(64, activation='relu'))\n",
        "my_first_nn.add(Dense(1, activation='sigmoid'))\n",
        "\n",
        "my_first_nn.compile(loss='mean_squared_error', optimizer='adam', metrics=['accuracy'])\n",
        "my_first_nn.fit(X_train, Y_train, epochs=100, initial_epoch=0)\n",
        "\n",
        "loss, accuracy = my_first_nn.evaluate(X_test, Y_test)\n",
        "print('Loss:', loss)\n",
        "print('Accuracy:', accuracy)"
      ],
      "metadata": {
        "colab": {
          "base_uri": "https://localhost:8080/"
        },
        "id": "iuzHorBiDciq",
        "outputId": "19294432-e024-443c-ea63-7d3e9390666a"
      },
      "execution_count": 6,
      "outputs": [
        {
          "output_type": "stream",
          "name": "stdout",
          "text": [
            "Epoch 1/100\n",
            "22/22 [==============================] - 2s 5ms/step - loss: 0.2885 - accuracy: 0.6237\n",
            "Epoch 2/100\n",
            "22/22 [==============================] - 0s 5ms/step - loss: 0.2421 - accuracy: 0.6425\n",
            "Epoch 3/100\n",
            "22/22 [==============================] - 0s 5ms/step - loss: 0.2504 - accuracy: 0.6397\n",
            "Epoch 4/100\n",
            "22/22 [==============================] - 0s 4ms/step - loss: 0.2218 - accuracy: 0.6744\n",
            "Epoch 5/100\n",
            "22/22 [==============================] - 0s 5ms/step - loss: 0.2206 - accuracy: 0.6816\n",
            "Epoch 6/100\n",
            "22/22 [==============================] - 0s 5ms/step - loss: 0.2067 - accuracy: 0.6975\n",
            "Epoch 7/100\n",
            "22/22 [==============================] - 0s 5ms/step - loss: 0.2037 - accuracy: 0.6903\n",
            "Epoch 8/100\n",
            "22/22 [==============================] - 0s 4ms/step - loss: 0.2077 - accuracy: 0.6889\n",
            "Epoch 9/100\n",
            "22/22 [==============================] - 0s 4ms/step - loss: 0.1983 - accuracy: 0.7120\n",
            "Epoch 10/100\n",
            "22/22 [==============================] - 0s 5ms/step - loss: 0.2049 - accuracy: 0.7077\n",
            "Epoch 11/100\n",
            "22/22 [==============================] - 0s 4ms/step - loss: 0.1993 - accuracy: 0.7192\n",
            "Epoch 12/100\n",
            "22/22 [==============================] - 0s 5ms/step - loss: 0.1906 - accuracy: 0.7221\n",
            "Epoch 13/100\n",
            "22/22 [==============================] - 0s 5ms/step - loss: 0.1881 - accuracy: 0.7323\n",
            "Epoch 14/100\n",
            "22/22 [==============================] - 0s 5ms/step - loss: 0.2028 - accuracy: 0.7091\n",
            "Epoch 15/100\n",
            "22/22 [==============================] - 0s 5ms/step - loss: 0.2040 - accuracy: 0.7149\n",
            "Epoch 16/100\n",
            "22/22 [==============================] - 0s 5ms/step - loss: 0.1946 - accuracy: 0.7164\n",
            "Epoch 17/100\n",
            "22/22 [==============================] - 0s 5ms/step - loss: 0.1912 - accuracy: 0.7120\n",
            "Epoch 18/100\n",
            "22/22 [==============================] - 0s 4ms/step - loss: 0.1885 - accuracy: 0.7352\n",
            "Epoch 19/100\n",
            "22/22 [==============================] - 0s 5ms/step - loss: 0.2033 - accuracy: 0.7048\n",
            "Epoch 20/100\n",
            "22/22 [==============================] - 0s 5ms/step - loss: 0.2107 - accuracy: 0.6758\n",
            "Epoch 21/100\n",
            "22/22 [==============================] - 0s 5ms/step - loss: 0.1875 - accuracy: 0.7250\n",
            "Epoch 22/100\n",
            "22/22 [==============================] - 0s 4ms/step - loss: 0.1861 - accuracy: 0.7381\n",
            "Epoch 23/100\n",
            "22/22 [==============================] - 0s 4ms/step - loss: 0.1821 - accuracy: 0.7294\n",
            "Epoch 24/100\n",
            "22/22 [==============================] - 0s 5ms/step - loss: 0.1931 - accuracy: 0.7048\n",
            "Epoch 25/100\n",
            "22/22 [==============================] - 0s 5ms/step - loss: 0.1802 - accuracy: 0.7424\n",
            "Epoch 26/100\n",
            "22/22 [==============================] - 0s 5ms/step - loss: 0.1831 - accuracy: 0.7323\n",
            "Epoch 27/100\n",
            "22/22 [==============================] - 0s 5ms/step - loss: 0.1749 - accuracy: 0.7482\n",
            "Epoch 28/100\n",
            "22/22 [==============================] - 0s 3ms/step - loss: 0.1779 - accuracy: 0.7352\n",
            "Epoch 29/100\n",
            "22/22 [==============================] - 0s 3ms/step - loss: 0.1804 - accuracy: 0.7366\n",
            "Epoch 30/100\n",
            "22/22 [==============================] - 0s 3ms/step - loss: 0.1683 - accuracy: 0.7627\n",
            "Epoch 31/100\n",
            "22/22 [==============================] - 0s 4ms/step - loss: 0.1748 - accuracy: 0.7511\n",
            "Epoch 32/100\n",
            "22/22 [==============================] - 0s 14ms/step - loss: 0.1710 - accuracy: 0.7511\n",
            "Epoch 33/100\n",
            "22/22 [==============================] - 0s 4ms/step - loss: 0.1682 - accuracy: 0.7540\n",
            "Epoch 34/100\n",
            "22/22 [==============================] - 0s 4ms/step - loss: 0.1923 - accuracy: 0.7410\n",
            "Epoch 35/100\n",
            "22/22 [==============================] - 0s 3ms/step - loss: 0.1715 - accuracy: 0.7612\n",
            "Epoch 36/100\n",
            "22/22 [==============================] - 0s 3ms/step - loss: 0.1713 - accuracy: 0.7467\n",
            "Epoch 37/100\n",
            "22/22 [==============================] - 0s 3ms/step - loss: 0.1729 - accuracy: 0.7424\n",
            "Epoch 38/100\n",
            "22/22 [==============================] - 0s 3ms/step - loss: 0.1695 - accuracy: 0.7511\n",
            "Epoch 39/100\n",
            "22/22 [==============================] - 0s 3ms/step - loss: 0.1673 - accuracy: 0.7554\n",
            "Epoch 40/100\n",
            "22/22 [==============================] - 0s 3ms/step - loss: 0.1681 - accuracy: 0.7598\n",
            "Epoch 41/100\n",
            "22/22 [==============================] - 0s 4ms/step - loss: 0.1653 - accuracy: 0.7627\n",
            "Epoch 42/100\n",
            "22/22 [==============================] - 0s 3ms/step - loss: 0.1687 - accuracy: 0.7496\n",
            "Epoch 43/100\n",
            "22/22 [==============================] - 0s 3ms/step - loss: 0.1702 - accuracy: 0.7627\n",
            "Epoch 44/100\n",
            "22/22 [==============================] - 0s 3ms/step - loss: 0.1707 - accuracy: 0.7627\n",
            "Epoch 45/100\n",
            "22/22 [==============================] - 0s 3ms/step - loss: 0.1758 - accuracy: 0.7424\n",
            "Epoch 46/100\n",
            "22/22 [==============================] - 0s 3ms/step - loss: 0.1624 - accuracy: 0.7757\n",
            "Epoch 47/100\n",
            "22/22 [==============================] - 0s 3ms/step - loss: 0.1627 - accuracy: 0.7641\n",
            "Epoch 48/100\n",
            "22/22 [==============================] - 0s 3ms/step - loss: 0.1776 - accuracy: 0.7366\n",
            "Epoch 49/100\n",
            "22/22 [==============================] - 0s 3ms/step - loss: 0.1607 - accuracy: 0.7713\n",
            "Epoch 50/100\n",
            "22/22 [==============================] - 0s 3ms/step - loss: 0.1636 - accuracy: 0.7656\n",
            "Epoch 51/100\n",
            "22/22 [==============================] - 0s 3ms/step - loss: 0.1625 - accuracy: 0.7612\n",
            "Epoch 52/100\n",
            "22/22 [==============================] - 0s 3ms/step - loss: 0.1742 - accuracy: 0.7583\n",
            "Epoch 53/100\n",
            "22/22 [==============================] - 0s 3ms/step - loss: 0.1581 - accuracy: 0.7685\n",
            "Epoch 54/100\n",
            "22/22 [==============================] - 0s 3ms/step - loss: 0.1541 - accuracy: 0.7844\n",
            "Epoch 55/100\n",
            "22/22 [==============================] - 0s 3ms/step - loss: 0.1618 - accuracy: 0.7728\n",
            "Epoch 56/100\n",
            "22/22 [==============================] - 0s 3ms/step - loss: 0.1672 - accuracy: 0.7598\n",
            "Epoch 57/100\n",
            "22/22 [==============================] - 0s 3ms/step - loss: 0.1607 - accuracy: 0.7525\n",
            "Epoch 58/100\n",
            "22/22 [==============================] - 0s 3ms/step - loss: 0.1572 - accuracy: 0.7699\n",
            "Epoch 59/100\n",
            "22/22 [==============================] - 0s 3ms/step - loss: 0.1632 - accuracy: 0.7670\n",
            "Epoch 60/100\n",
            "22/22 [==============================] - 0s 3ms/step - loss: 0.1678 - accuracy: 0.7612\n",
            "Epoch 61/100\n",
            "22/22 [==============================] - 0s 3ms/step - loss: 0.1602 - accuracy: 0.7786\n",
            "Epoch 62/100\n",
            "22/22 [==============================] - 0s 4ms/step - loss: 0.1707 - accuracy: 0.7496\n",
            "Epoch 63/100\n",
            "22/22 [==============================] - 0s 3ms/step - loss: 0.1594 - accuracy: 0.7815\n",
            "Epoch 64/100\n",
            "22/22 [==============================] - 0s 3ms/step - loss: 0.1595 - accuracy: 0.7829\n",
            "Epoch 65/100\n",
            "22/22 [==============================] - 0s 3ms/step - loss: 0.1582 - accuracy: 0.7699\n",
            "Epoch 66/100\n",
            "22/22 [==============================] - 0s 4ms/step - loss: 0.1587 - accuracy: 0.7641\n",
            "Epoch 67/100\n",
            "22/22 [==============================] - 0s 3ms/step - loss: 0.1633 - accuracy: 0.7699\n",
            "Epoch 68/100\n",
            "22/22 [==============================] - 0s 3ms/step - loss: 0.1558 - accuracy: 0.7757\n",
            "Epoch 69/100\n",
            "22/22 [==============================] - 0s 3ms/step - loss: 0.1562 - accuracy: 0.7627\n",
            "Epoch 70/100\n",
            "22/22 [==============================] - 0s 4ms/step - loss: 0.1595 - accuracy: 0.7641\n",
            "Epoch 71/100\n",
            "22/22 [==============================] - 0s 3ms/step - loss: 0.1596 - accuracy: 0.7641\n",
            "Epoch 72/100\n",
            "22/22 [==============================] - 0s 3ms/step - loss: 0.1504 - accuracy: 0.7858\n",
            "Epoch 73/100\n",
            "22/22 [==============================] - 0s 3ms/step - loss: 0.1518 - accuracy: 0.7800\n",
            "Epoch 74/100\n",
            "22/22 [==============================] - 0s 3ms/step - loss: 0.1511 - accuracy: 0.7844\n",
            "Epoch 75/100\n",
            "22/22 [==============================] - 0s 3ms/step - loss: 0.1523 - accuracy: 0.7742\n",
            "Epoch 76/100\n",
            "22/22 [==============================] - 0s 3ms/step - loss: 0.1476 - accuracy: 0.7916\n",
            "Epoch 77/100\n",
            "22/22 [==============================] - 0s 4ms/step - loss: 0.1520 - accuracy: 0.7757\n",
            "Epoch 78/100\n",
            "22/22 [==============================] - 0s 4ms/step - loss: 0.1520 - accuracy: 0.7757\n",
            "Epoch 79/100\n",
            "22/22 [==============================] - 0s 3ms/step - loss: 0.1522 - accuracy: 0.7757\n",
            "Epoch 80/100\n",
            "22/22 [==============================] - 0s 4ms/step - loss: 0.1613 - accuracy: 0.7699\n",
            "Epoch 81/100\n",
            "22/22 [==============================] - 0s 3ms/step - loss: 0.1459 - accuracy: 0.7858\n",
            "Epoch 82/100\n",
            "22/22 [==============================] - 0s 3ms/step - loss: 0.1479 - accuracy: 0.7815\n",
            "Epoch 83/100\n",
            "22/22 [==============================] - 0s 3ms/step - loss: 0.1483 - accuracy: 0.7656\n",
            "Epoch 84/100\n",
            "22/22 [==============================] - 0s 3ms/step - loss: 0.1544 - accuracy: 0.7728\n",
            "Epoch 85/100\n",
            "22/22 [==============================] - 0s 3ms/step - loss: 0.1544 - accuracy: 0.7713\n",
            "Epoch 86/100\n",
            "22/22 [==============================] - 0s 3ms/step - loss: 0.1508 - accuracy: 0.7858\n",
            "Epoch 87/100\n",
            "22/22 [==============================] - 0s 3ms/step - loss: 0.1630 - accuracy: 0.7641\n",
            "Epoch 88/100\n",
            "22/22 [==============================] - 0s 3ms/step - loss: 0.1485 - accuracy: 0.7916\n",
            "Epoch 89/100\n",
            "22/22 [==============================] - 0s 3ms/step - loss: 0.1500 - accuracy: 0.7844\n",
            "Epoch 90/100\n",
            "22/22 [==============================] - 0s 4ms/step - loss: 0.1454 - accuracy: 0.7974\n",
            "Epoch 91/100\n",
            "22/22 [==============================] - 0s 3ms/step - loss: 0.1455 - accuracy: 0.7800\n",
            "Epoch 92/100\n",
            "22/22 [==============================] - 0s 3ms/step - loss: 0.1429 - accuracy: 0.7988\n",
            "Epoch 93/100\n",
            "22/22 [==============================] - 0s 4ms/step - loss: 0.1438 - accuracy: 0.7844\n",
            "Epoch 94/100\n",
            "22/22 [==============================] - 0s 4ms/step - loss: 0.1466 - accuracy: 0.8003\n",
            "Epoch 95/100\n",
            "22/22 [==============================] - 0s 3ms/step - loss: 0.1421 - accuracy: 0.7988\n",
            "Epoch 96/100\n",
            "22/22 [==============================] - 0s 3ms/step - loss: 0.1511 - accuracy: 0.7728\n",
            "Epoch 97/100\n",
            "22/22 [==============================] - 0s 3ms/step - loss: 0.1446 - accuracy: 0.7887\n",
            "Epoch 98/100\n",
            "22/22 [==============================] - 0s 3ms/step - loss: 0.1465 - accuracy: 0.7829\n",
            "Epoch 99/100\n",
            "22/22 [==============================] - 0s 3ms/step - loss: 0.1450 - accuracy: 0.7974\n",
            "Epoch 100/100\n",
            "22/22 [==============================] - 0s 4ms/step - loss: 0.1388 - accuracy: 0.7974\n",
            "3/3 [==============================] - 0s 5ms/step - loss: 0.1816 - accuracy: 0.7143\n",
            "Loss: 0.1815938502550125\n",
            "Accuracy: 0.7142857313156128\n"
          ]
        }
      ]
    },
    {
      "cell_type": "code",
      "source": [
        "#Try to change the number of hidden layer and the\n",
        "#activation to tanh or sigmoid and see what happens.\n",
        "from keras import Sequential\n",
        "from keras.datasets import mnist\n",
        "import numpy as np\n",
        "from keras.layers import Dense\n",
        "from keras.utils import to_categorical\n",
        "\n",
        "(train_images,train_labels),(test_images, test_labels) = mnist.load_data()\n",
        "\n",
        "print(train_images.shape[1:])\n",
        "#process the data\n",
        "#1. convert each image of shape 28*28 to 784 dimensional which will be fed to the network as a single feature\n",
        "dimData = np.prod(train_images.shape[1:])\n",
        "print(dimData)\n",
        "train_data = train_images.reshape(train_images.shape[0],dimData)\n",
        "test_data = test_images.reshape(test_images.shape[0],dimData)\n",
        "\n",
        "#convert data to float and scale values between 0 and 1\n",
        "train_data = train_data.astype('float')\n",
        "test_data = test_data.astype('float')\n",
        "#scale data\n",
        "train_data /=255.0\n",
        "test_data /=255.0\n",
        "#change the labels frominteger to one-hot encoding. to_categorical is doing the same thing as LabelEncoder()\n",
        "train_labels_one_hot = to_categorical(train_labels)\n",
        "test_labels_one_hot = to_categorical(test_labels)\n",
        "\n",
        "#creating network\n",
        "model = Sequential()\n",
        "model.add(Dense(512, activation='relu', input_shape=(dimData,)))\n",
        "model.add(Dense(512, activation='relu'))\n",
        "model.add(Dense(128, activation='tanh'))\n",
        "model.add(Dense(10, activation='softmax'))\n",
        "\n",
        "\n",
        "model.compile(optimizer='rmsprop', loss='categorical_crossentropy', metrics=['accuracy'])\n",
        "history = model.fit(train_data, train_labels_one_hot, batch_size=256, epochs=10, verbose=1,\n",
        "                   validation_data=(test_data, test_labels_one_hot))"
      ],
      "metadata": {
        "colab": {
          "base_uri": "https://localhost:8080/"
        },
        "id": "Z0aEVhplk984",
        "outputId": "93b2e50e-b55c-4584-efea-d36967892551"
      },
      "execution_count": 13,
      "outputs": [
        {
          "output_type": "stream",
          "name": "stdout",
          "text": [
            "(28, 28)\n",
            "784\n",
            "Epoch 1/10\n",
            "235/235 [==============================] - 2s 5ms/step - loss: 0.2872 - accuracy: 0.9108 - val_loss: 0.1145 - val_accuracy: 0.9646\n",
            "Epoch 2/10\n",
            "235/235 [==============================] - 1s 4ms/step - loss: 0.0941 - accuracy: 0.9709 - val_loss: 0.1002 - val_accuracy: 0.9684\n",
            "Epoch 3/10\n",
            "235/235 [==============================] - 1s 4ms/step - loss: 0.0584 - accuracy: 0.9814 - val_loss: 0.0729 - val_accuracy: 0.9789\n",
            "Epoch 4/10\n",
            "235/235 [==============================] - 1s 4ms/step - loss: 0.0395 - accuracy: 0.9875 - val_loss: 0.0651 - val_accuracy: 0.9816\n",
            "Epoch 5/10\n",
            "235/235 [==============================] - 1s 5ms/step - loss: 0.0295 - accuracy: 0.9904 - val_loss: 0.0672 - val_accuracy: 0.9814\n",
            "Epoch 6/10\n",
            "235/235 [==============================] - 1s 4ms/step - loss: 0.0212 - accuracy: 0.9932 - val_loss: 0.0757 - val_accuracy: 0.9772\n",
            "Epoch 7/10\n",
            "235/235 [==============================] - 1s 5ms/step - loss: 0.0156 - accuracy: 0.9950 - val_loss: 0.0648 - val_accuracy: 0.9836\n",
            "Epoch 8/10\n",
            "235/235 [==============================] - 1s 5ms/step - loss: 0.0121 - accuracy: 0.9962 - val_loss: 0.0662 - val_accuracy: 0.9826\n",
            "Epoch 9/10\n",
            "235/235 [==============================] - 1s 6ms/step - loss: 0.0082 - accuracy: 0.9975 - val_loss: 0.0693 - val_accuracy: 0.9837\n",
            "Epoch 10/10\n",
            "235/235 [==============================] - 2s 7ms/step - loss: 0.0067 - accuracy: 0.9979 - val_loss: 0.0689 - val_accuracy: 0.9839\n"
          ]
        }
      ]
    },
    {
      "cell_type": "code",
      "source": [
        "#Run the same code without scaling the images and check the performance\n",
        "from keras import Sequential\n",
        "from keras.datasets import mnist\n",
        "import numpy as np\n",
        "from keras.layers import Dense\n",
        "from keras.utils import to_categorical\n",
        "\n",
        "(train_images,train_labels),(test_images, test_labels) = mnist.load_data()\n",
        "\n",
        "print(train_images.shape[1:])\n",
        "#process the data\n",
        "#1. convert each image of shape 28*28 to 784 dimensional which will be fed to the network as a single feature\n",
        "dimData = np.prod(train_images.shape[1:])\n",
        "print(dimData)\n",
        "train_data = train_images.reshape(train_images.shape[0],dimData)\n",
        "test_data = test_images.reshape(test_images.shape[0],dimData)\n",
        "\n",
        "#convert data to float and scale values between 0 and 1\n",
        "train_data = train_data.astype('float')\n",
        "test_data = test_data.astype('float')\n",
        "\n",
        "#change the labels frominteger to one-hot encoding. to_categorical is doing the same thing as LabelEncoder()\n",
        "train_labels_one_hot = to_categorical(train_labels)\n",
        "test_labels_one_hot = to_categorical(test_labels)\n",
        "\n",
        "#creating network\n",
        "model = Sequential()\n",
        "model.add(Dense(512, activation='relu', input_shape=(dimData,)))\n",
        "model.add(Dense(512, activation='relu'))\n",
        "model.add(Dense(128, activation='sigmoid'))\n",
        "model.add(Dense(10, activation='softmax'))\n",
        "\n",
        "\n",
        "model.compile(optimizer='rmsprop', loss='categorical_crossentropy', metrics=['accuracy'])\n",
        "history = model.fit(train_data, train_labels_one_hot, batch_size=256, epochs=10, verbose=1,\n",
        "                   validation_data=(test_data, test_labels_one_hot))"
      ],
      "metadata": {
        "colab": {
          "base_uri": "https://localhost:8080/"
        },
        "id": "zOr4TkWHp86R",
        "outputId": "2baf3385-c8ad-4479-8595-d9dda9b902aa"
      },
      "execution_count": 16,
      "outputs": [
        {
          "output_type": "stream",
          "name": "stdout",
          "text": [
            "(28, 28)\n",
            "784\n",
            "Epoch 1/10\n",
            "235/235 [==============================] - 3s 8ms/step - loss: 0.4688 - accuracy: 0.8691 - val_loss: 0.1937 - val_accuracy: 0.9447\n",
            "Epoch 2/10\n",
            "235/235 [==============================] - 1s 5ms/step - loss: 0.1727 - accuracy: 0.9499 - val_loss: 0.1953 - val_accuracy: 0.9391\n",
            "Epoch 3/10\n",
            "235/235 [==============================] - 1s 4ms/step - loss: 0.1334 - accuracy: 0.9589 - val_loss: 0.1519 - val_accuracy: 0.9534\n",
            "Epoch 4/10\n",
            "235/235 [==============================] - 1s 4ms/step - loss: 0.1101 - accuracy: 0.9674 - val_loss: 0.1114 - val_accuracy: 0.9680\n",
            "Epoch 5/10\n",
            "235/235 [==============================] - 1s 4ms/step - loss: 0.1007 - accuracy: 0.9700 - val_loss: 0.1071 - val_accuracy: 0.9674\n",
            "Epoch 6/10\n",
            "235/235 [==============================] - 1s 4ms/step - loss: 0.0920 - accuracy: 0.9729 - val_loss: 0.1176 - val_accuracy: 0.9666\n",
            "Epoch 7/10\n",
            "235/235 [==============================] - 1s 4ms/step - loss: 0.0875 - accuracy: 0.9739 - val_loss: 0.1354 - val_accuracy: 0.9603\n",
            "Epoch 8/10\n",
            "235/235 [==============================] - 1s 4ms/step - loss: 0.0795 - accuracy: 0.9760 - val_loss: 0.1055 - val_accuracy: 0.9691\n",
            "Epoch 9/10\n",
            "235/235 [==============================] - 1s 4ms/step - loss: 0.0760 - accuracy: 0.9770 - val_loss: 0.0850 - val_accuracy: 0.9751\n",
            "Epoch 10/10\n",
            "235/235 [==============================] - 1s 4ms/step - loss: 0.0723 - accuracy: 0.9783 - val_loss: 0.0919 - val_accuracy: 0.9740\n"
          ]
        }
      ]
    },
    {
      "cell_type": "code",
      "source": [
        "#Plot one of the images in the test data, and then do inferencing to check what is the prediction of the model on that single image.\n",
        "import matplotlib.pyplot as plt\n",
        "\n",
        "# Choose an index to plot a test image\n",
        "index = 0\n",
        "\n",
        "# Plot the selected test image\n",
        "plt.imshow(test_images[index], cmap='gray')\n",
        "plt.show()\n",
        "\n",
        "# Make a prediction on the selected test image\n",
        "image = test_data[index].reshape(1, -1)\n",
        "prediction = model.predict(image)\n",
        "predicted_class = np.argmax(prediction)\n",
        "print(f\"Predicted Class: {predicted_class}\")\n"
      ],
      "metadata": {
        "colab": {
          "base_uri": "https://localhost:8080/",
          "height": 465
        },
        "id": "zqWxR66Yq-QC",
        "outputId": "e2853249-8e06-42f1-ed74-c787857165ae"
      },
      "execution_count": 17,
      "outputs": [
        {
          "output_type": "display_data",
          "data": {
            "text/plain": [
              "<Figure size 640x480 with 1 Axes>"
            ],
            "image/png": "[encoded data removed]"
          },
          "metadata": {}
        },
        {
          "output_type": "stream",
          "name": "stdout",
          "text": [
            "1/1 [==============================] - 0s 58ms/step\n",
            "Predicted Class: 7\n"
          ]
        }
      ]
    }
  ]
}
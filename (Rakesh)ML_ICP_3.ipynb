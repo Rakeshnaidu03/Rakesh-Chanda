{
  "nbformat": 4,
  "nbformat_minor": 0,
  "metadata": {
    "colab": {
      "provenance": [],
      "authorship_tag": "ABX9TyMK8MALu8/KjM0JTKFTTVoX",
      "include_colab_link": true
    },
    "kernelspec": {
      "name": "python3",
      "display_name": "Python 3"
    },
    "language_info": {
      "name": "python"
    }
  },
  "cells": [
    {
      "cell_type": "markdown",
      "metadata": {
        "id": "view-in-github",
        "colab_type": "text"
      },
      "source": [
        "<a href=\"https://colab.research.google.com/github/Rakeshnaidu03/Rakesh-Chanda/blob/main/(Rakesh)ML_ICP_3.ipynb\" target=\"_parent\"><img src=\"https://colab.research.google.com/assets/colab-badge.svg\" alt=\"Open In Colab\"/></a>"
      ]
    },
    {
      "cell_type": "code",
      "execution_count": 14,
      "metadata": {
        "colab": {
          "base_uri": "https://localhost:8080/"
        },
        "id": "LAMr2Kjkyz4r",
        "outputId": "25b514db-849d-4191-dfc8-1be35dc00623"
      },
      "outputs": [
        {
          "output_type": "stream",
          "name": "stdout",
          "text": [
            "Shape of the array after reshaping: (3, 5)\n",
            "Array after replacing max in each row with 0:\n",
            " [[ 0  9  9  7 18]\n",
            " [10 14  0  9  5]\n",
            " [ 8 14  8  0  6]]\n",
            "Shape of the 2D array: (4, 3)\n",
            "Type of the array: <class 'numpy.ndarray'>\n",
            "Data type of the array: int32\n"
          ]
        }
      ],
      "source": [
        "# Part A#\n",
        "\n",
        "\n",
        "import numpy as np\n",
        "\n",
        "# Create a random vector of size 15 with integers in the range 1-20\n",
        "random_vector = np.random.randint(1, 21, size=15)\n",
        "\n",
        "# Reshape the array to 3 by 5\n",
        "reshaped_array = random_vector.reshape(3, 5)\n",
        "\n",
        "# Print array shape\n",
        "print(\"Shape of the array after reshaping:\", reshaped_array.shape)\n",
        "\n",
        "# Replace the max in each row by 0\n",
        "reshaped_array[np.arange(len(reshaped_array)), np.argmax(reshaped_array, axis=1)] = 0\n",
        "\n",
        "print(\"Array after replacing max in each row with 0:\\n\", reshaped_array)\n",
        "\n",
        "# Create a 2-dimensional array of size 4 x 3 with 4-byte integer elements\n",
        "array_4x3 = np.zeros((4, 3), dtype=np.int32)\n",
        "\n",
        "# Print shape, type, and data type of the array\n",
        "print(\"Shape of the 2D array:\", array_4x3.shape)\n",
        "print(\"Type of the array:\", type(array_4x3))\n",
        "print(\"Data type of the array:\", array_4x3.dtype)\n"
      ]
    },
    {
      "cell_type": "code",
      "source": [
        "import numpy as np\n",
        "\n",
        "# Given square array\n",
        "A = np.array([[3, -2], [1, 0]])\n",
        "\n",
        "# Compute eigenvalues and eigenvectors\n",
        "eigenvalues, eigenvectors = np.linalg.eig(A)\n",
        "\n",
        "print(\"Eigenvalues:\")\n",
        "print(eigenvalues)\n",
        "\n",
        "print(\"\\nEigenvectors:\")\n",
        "print(eigenvectors)"
      ],
      "metadata": {
        "colab": {
          "base_uri": "https://localhost:8080/"
        },
        "id": "WowQ0GR75ExJ",
        "outputId": "492b0bb5-853c-4807-cabe-57bd26dbdc6d"
      },
      "execution_count": 8,
      "outputs": [
        {
          "output_type": "stream",
          "name": "stdout",
          "text": [
            "Eigenvalues:\n",
            "[2. 1.]\n",
            "\n",
            "Eigenvectors:\n",
            "[[0.89442719 0.70710678]\n",
            " [0.4472136  0.70710678]]\n"
          ]
        }
      ]
    },
    {
      "cell_type": "code",
      "source": [
        "import numpy as np\n",
        "\n",
        "# Define the given array\n",
        "given_array = np.array([[0, 1, 2],\n",
        "                        [3, 4, 5]])\n",
        "\n",
        "# Compute the sum of the diagonal elements\n",
        "diagonal_sum = np.trace(given_array)\n",
        "\n",
        "# Print the sum of the diagonal elements\n",
        "print(\"Sum of the diagonal elements:\", diagonal_sum)\n",
        "\n"
      ],
      "metadata": {
        "colab": {
          "base_uri": "https://localhost:8080/"
        },
        "id": "GlnoXW4-5wdw",
        "outputId": "e76d4a98-5ef5-4dca-92a1-399c3a5c2fe6"
      },
      "execution_count": 9,
      "outputs": [
        {
          "output_type": "stream",
          "name": "stdout",
          "text": [
            "Sum of the diagonal elements: 4\n"
          ]
        }
      ]
    },
    {
      "cell_type": "code",
      "source": [
        "import numpy as np\n",
        "\n",
        "# Define the original array\n",
        "original_array = np.array([[1, 2],\n",
        "                           [3, 4],\n",
        "                           [5, 6]])\n",
        "\n",
        "# Reshape to 2x3\n",
        "reshaped_array_2x3 = np.reshape(original_array, (2, 3))\n",
        "\n",
        "# Reshape to 3x2\n",
        "reshaped_array_3x2 = np.reshape(original_array, (3, 2))\n",
        "\n",
        "# Print the reshaped arrays\n",
        "print(\"Original Array:\")\n",
        "print(original_array)\n",
        "print(\"\\nReshaped to 2x3:\")\n",
        "print(reshaped_array_2x3)\n",
        "print(\"\\nReshaped to 3x2:\")\n",
        "print(reshaped_array_3x2)\n"
      ],
      "metadata": {
        "colab": {
          "base_uri": "https://localhost:8080/"
        },
        "id": "SBzIkJV06Umm",
        "outputId": "58d791fd-fc23-4b12-e5d0-815492f89bed"
      },
      "execution_count": 10,
      "outputs": [
        {
          "output_type": "stream",
          "name": "stdout",
          "text": [
            "Original Array:\n",
            "[[1 2]\n",
            " [3 4]\n",
            " [5 6]]\n",
            "\n",
            "Reshaped to 2x3:\n",
            "[[1 2 3]\n",
            " [4 5 6]]\n",
            "\n",
            "Reshaped to 3x2:\n",
            "[[1 2]\n",
            " [3 4]\n",
            " [5 6]]\n"
          ]
        }
      ]
    },
    {
      "cell_type": "markdown",
      "source": [
        "**Part B**"
      ],
      "metadata": {
        "id": "v6ziJsFT7RRQ"
      }
    },
    {
      "cell_type": "code",
      "source": [
        "import pandas as pd\n",
        "\n",
        "# 1. Read the provided CSV file 'data.csv'\n",
        "df = pd.read_csv('data (1).csv')\n",
        "\n",
        "# 2. Show the basic statistical description about the data\n",
        "basic_stats = df.describe()\n",
        "print(\"Basic Statistical Description:\")\n",
        "print(basic_stats)\n",
        "\n",
        "# 3. Check if the data has null values and replace them with the mean\n",
        "if df.isnull().values.any():\n",
        "    print(\"\\nThe data has null values.\")\n",
        "    # Replace null values with mean\n",
        "    df.fillna(df.mean(), inplace=True)\n",
        "    print(\"Null values replaced with mean.\")\n",
        "\n",
        "# 4. Select at least two columns and aggregate the data using: min, max, count, mean\n",
        "aggregated_data = df[['Calories', 'Pulse']].agg(['min', 'max', 'count', 'mean'])\n",
        "print(\"\\nAggregated Data (Calories and Pulse):\")\n",
        "print(aggregated_data)\n",
        "\n",
        "# 5. Filter the dataframe to select the rows with calories values between 500 and 1000\n",
        "filtered_calories = df[(df['Calories'] >= 500) & (df['Calories'] <= 1000)]\n",
        "print(\"\\nRows with Calories between 500 and 1000:\")\n",
        "print(filtered_calories)\n",
        "\n",
        "# 6. Filter the dataframe to select the rows with calories values > 500 and pulse < 100\n",
        "filtered_calories_pulse = df[(df['Calories'] > 500) & (df['Pulse'] < 100)]\n",
        "print(\"\\nRows with Calories > 500 and Pulse < 100:\")\n",
        "print(filtered_calories_pulse)\n",
        "\n",
        "# 7. Create a new “df_modified” dataframe that contains all the columns from df except for “Maxpulse”\n",
        "df_modified = df.drop(columns=['Maxpulse'])\n",
        "\n",
        "# 8. Delete the “Maxpulse” column from the main df dataframe\n",
        "df.drop(columns=['Maxpulse'], inplace=True)\n",
        "\n",
        "# 9. Convert the datatype of Calories column to int datatype\n",
        "df['Calories'] = df['Calories'].astype(int)\n",
        "\n",
        "# Display modified dataframe\n",
        "print(\"\\nModified DataFrame (df_modified):\")\n",
        "print(df_modified.head())\n",
        "print(\"\\nOriginal DataFrame (df) after deletion of 'Maxpulse' column and conversion of 'Calories' column to int:\")\n",
        "print(df.head())\n"
      ],
      "metadata": {
        "colab": {
          "base_uri": "https://localhost:8080/"
        },
        "id": "rh7WqZDd7f0F",
        "outputId": "a220db38-b3ef-466e-efad-15709038183d"
      },
      "execution_count": 13,
      "outputs": [
        {
          "output_type": "stream",
          "name": "stdout",
          "text": [
            "Basic Statistical Description:\n",
            "         Duration       Pulse    Maxpulse     Calories\n",
            "count  169.000000  169.000000  169.000000   164.000000\n",
            "mean    63.846154  107.461538  134.047337   375.790244\n",
            "std     42.299949   14.510259   16.450434   266.379919\n",
            "min     15.000000   80.000000  100.000000    50.300000\n",
            "25%     45.000000  100.000000  124.000000   250.925000\n",
            "50%     60.000000  105.000000  131.000000   318.600000\n",
            "75%     60.000000  111.000000  141.000000   387.600000\n",
            "max    300.000000  159.000000  184.000000  1860.400000\n",
            "\n",
            "The data has null values.\n",
            "Null values replaced with mean.\n",
            "\n",
            "Aggregated Data (Calories and Pulse):\n",
            "          Calories       Pulse\n",
            "min      50.300000   80.000000\n",
            "max    1860.400000  159.000000\n",
            "count   169.000000  169.000000\n",
            "mean    375.790244  107.461538\n",
            "\n",
            "Rows with Calories between 500 and 1000:\n",
            "     Duration  Pulse  Maxpulse  Calories\n",
            "51         80    123       146     643.1\n",
            "62        160    109       135     853.0\n",
            "65        180     90       130     800.4\n",
            "66        150    105       135     873.4\n",
            "67        150    107       130     816.0\n",
            "72         90    100       127     700.0\n",
            "73        150     97       127     953.2\n",
            "75         90     98       125     563.2\n",
            "78        120    100       130     500.4\n",
            "83        120    100       130     500.0\n",
            "90        180    101       127     600.1\n",
            "99         90     93       124     604.1\n",
            "101        90     90       110     500.0\n",
            "102        90     90       100     500.0\n",
            "103        90     90       100     500.4\n",
            "106       180     90       120     800.3\n",
            "108        90     90       120     500.3\n",
            "\n",
            "Rows with Calories > 500 and Pulse < 100:\n",
            "     Duration  Pulse  Maxpulse  Calories\n",
            "65        180     90       130     800.4\n",
            "70        150     97       129    1115.0\n",
            "73        150     97       127     953.2\n",
            "75         90     98       125     563.2\n",
            "99         90     93       124     604.1\n",
            "103        90     90       100     500.4\n",
            "106       180     90       120     800.3\n",
            "108        90     90       120     500.3\n",
            "\n",
            "Modified DataFrame (df_modified):\n",
            "   Duration  Pulse  Calories\n",
            "0        60    110     409.1\n",
            "1        60    117     479.0\n",
            "2        60    103     340.0\n",
            "3        45    109     282.4\n",
            "4        45    117     406.0\n",
            "\n",
            "Original DataFrame (df) after deletion of 'Maxpulse' column and conversion of 'Calories' column to int:\n",
            "   Duration  Pulse  Calories\n",
            "0        60    110       409\n",
            "1        60    117       479\n",
            "2        60    103       340\n",
            "3        45    109       282\n",
            "4        45    117       406\n"
          ]
        }
      ]
    }
  ]
}
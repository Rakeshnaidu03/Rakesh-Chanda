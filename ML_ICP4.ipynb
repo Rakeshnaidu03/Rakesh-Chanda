{
  "nbformat": 4,
  "nbformat_minor": 0,
  "metadata": {
    "colab": {
      "provenance": [],
      "authorship_tag": "ABX9TyOPeQBSxUuzxpP1WvNcQbQq",
      "include_colab_link": true
    },
    "kernelspec": {
      "name": "python3",
      "display_name": "Python 3"
    },
    "language_info": {
      "name": "python"
    }
  },
  "cells": [
    {
      "cell_type": "markdown",
      "metadata": {
        "id": "view-in-github",
        "colab_type": "text"
      },
      "source": [
        "<a href=\"https://colab.research.google.com/github/Rakeshnaidu03/Rakesh-Chanda/blob/main/ML_ICP4.ipynb\" target=\"_parent\"><img src=\"https://colab.research.google.com/assets/colab-badge.svg\" alt=\"Open In Colab\"/></a>"
      ]
    },
    {
      "cell_type": "code",
      "execution_count": 16,
      "metadata": {
        "colab": {
          "base_uri": "https://localhost:8080/"
        },
        "id": "kOd7mMsBjNw3",
        "outputId": "341aa345-5780-41b6-c099-61704db15354"
      },
      "outputs": [
        {
          "output_type": "stream",
          "name": "stdout",
          "text": [
            "Model Score:\n",
            "0.3076923076923077\n",
            "\n",
            "Classification Report:\n",
            "              precision    recall  f1-score   support\n",
            "\n",
            "           1       0.00      0.00      0.00        19\n",
            "           2       0.40      0.17      0.24        23\n",
            "           3       0.08      0.75      0.15         4\n",
            "           5       0.33      0.17      0.22         6\n",
            "           6       0.75      1.00      0.86         3\n",
            "           7       0.90      0.90      0.90        10\n",
            "\n",
            "    accuracy                           0.31        65\n",
            "   macro avg       0.41      0.50      0.40        65\n",
            "weighted avg       0.35      0.31      0.29        65\n",
            "\n"
          ]
        }
      ],
      "source": [
        "import pandas as pd\n",
        "from sklearn.model_selection import train_test_split\n",
        "from sklearn.naive_bayes import GaussianNB\n",
        "from sklearn.metrics import classification_report\n",
        "\n",
        "# Load the glass dataset\n",
        "glass_data = pd.read_csv(\"glass.csv\")\n",
        "\n",
        "# Split the data into features and target\n",
        "X = glass_data.drop(\"Type\", axis=1)\n",
        "y = glass_data[\"Type\"]\n",
        "\n",
        "# Split the data into training and testing sets\n",
        "X_train, X_test, y_train, y_test = train_test_split(X, y, test_size=0.3, random_state=42)\n",
        "\n",
        "# Create a Gaussian Naive Bayes model\n",
        "nb_model = GaussianNB()\n",
        "\n",
        "# Train the model\n",
        "nb_model.fit(X_train, y_train)\n",
        "\n",
        "# Make predictions on the testing set\n",
        "y_pred = nb_model.predict(X_test)\n",
        "\n",
        "# Evaluate the model\n",
        "score = nb_model.score(X_test, y_test)\n",
        "report = classification_report(y_test, y_pred)\n",
        "\n",
        "print(\"Model Score:\")\n",
        "print(score)\n",
        "print(\"\\nClassification Report:\")\n",
        "print(report)"
      ]
    },
    {
      "cell_type": "code",
      "source": [
        "import pandas as pd\n",
        "from sklearn.model_selection import train_test_split\n",
        "from sklearn.svm import SVC\n",
        "from sklearn.metrics import classification_report\n",
        "train_df= pd.read_csv('/content/glass.csv')\n",
        "test_df=pd.read_csv('/content/glass.csv')\n",
        "print(train_df.isnull().sum())\n",
        "print('-'*10)\n",
        "print(test_df.isnull().sum())\n",
        "# Split the data into features and target\n",
        "X_train= train_df.drop(\"RI\", axis=1)\n",
        "y_train = train_df[\"RI\"]\n",
        "x_test= test_df.drop(\"Na\",axis=1)\n",
        "\n",
        "# Split the data into training and testing sets\n",
        "X_train, X_test, y_train, y_test = train_test_split(X, y, test_size=0.3, random_state=42)\n",
        "\n",
        "# Create an SVM model\n",
        "svm_model = SVC()\n",
        "\n",
        "# Train the model\n",
        "svm_model.fit(X_train, y_train)\n",
        "\n",
        "# Make predictions on the testing set\n",
        "y_pred = svm_model.predict(X_test)\n",
        "\n",
        "# Evaluate the model\n",
        "score = svm_model.score(X_test, y_test)\n",
        "report = classification_report(y_test, y_pred)\n",
        "\n",
        "print(\"Model Score:\")\n",
        "print(score)\n",
        "print(\"\\nClassification Report:\")\n",
        "print(report)"
      ],
      "metadata": {
        "colab": {
          "base_uri": "https://localhost:8080/"
        },
        "id": "41c0ErbplNBe",
        "outputId": "5e84d1ec-88cc-4b10-d912-577935728b04"
      },
      "execution_count": 15,
      "outputs": [
        {
          "output_type": "stream",
          "name": "stdout",
          "text": [
            "RI      0\n",
            "Na      0\n",
            "Mg      0\n",
            "Al      0\n",
            "Si      0\n",
            "K       0\n",
            "Ca      0\n",
            "Ba      0\n",
            "Fe      0\n",
            "Type    0\n",
            "dtype: int64\n",
            "----------\n",
            "RI      0\n",
            "Na      0\n",
            "Mg      0\n",
            "Al      0\n",
            "Si      0\n",
            "K       0\n",
            "Ca      0\n",
            "Ba      0\n",
            "Fe      0\n",
            "Type    0\n",
            "dtype: int64\n",
            "Model Score:\n",
            "0.35384615384615387\n",
            "\n",
            "Classification Report:\n",
            "              precision    recall  f1-score   support\n",
            "\n",
            "           1       0.00      0.00      0.00        19\n",
            "           2       0.35      1.00      0.52        23\n",
            "           3       0.00      0.00      0.00         4\n",
            "           5       0.00      0.00      0.00         6\n",
            "           6       0.00      0.00      0.00         3\n",
            "           7       0.00      0.00      0.00        10\n",
            "\n",
            "    accuracy                           0.35        65\n",
            "   macro avg       0.06      0.17      0.09        65\n",
            "weighted avg       0.13      0.35      0.18        65\n",
            "\n"
          ]
        },
        {
          "output_type": "stream",
          "name": "stderr",
          "text": [
            "/usr/local/lib/python3.10/dist-packages/sklearn/metrics/_classification.py:1344: UndefinedMetricWarning: Precision and F-score are ill-defined and being set to 0.0 in labels with no predicted samples. Use `zero_division` parameter to control this behavior.\n",
            "  _warn_prf(average, modifier, msg_start, len(result))\n",
            "/usr/local/lib/python3.10/dist-packages/sklearn/metrics/_classification.py:1344: UndefinedMetricWarning: Precision and F-score are ill-defined and being set to 0.0 in labels with no predicted samples. Use `zero_division` parameter to control this behavior.\n",
            "  _warn_prf(average, modifier, msg_start, len(result))\n",
            "/usr/local/lib/python3.10/dist-packages/sklearn/metrics/_classification.py:1344: UndefinedMetricWarning: Precision and F-score are ill-defined and being set to 0.0 in labels with no predicted samples. Use `zero_division` parameter to control this behavior.\n",
            "  _warn_prf(average, modifier, msg_start, len(result))\n"
          ]
        }
      ]
    }
  ]
}
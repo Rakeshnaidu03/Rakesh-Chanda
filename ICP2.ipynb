{
  "nbformat": 4,
  "nbformat_minor": 0,
  "metadata": {
    "colab": {
      "provenance": [],
      "authorship_tag": "ABX9TyOSRdFq8xtwaYrsYqVb+GZj",
      "include_colab_link": true
    },
    "kernelspec": {
      "name": "python3",
      "display_name": "Python 3"
    },
    "language_info": {
      "name": "python"
    }
  },
  "cells": [
    {
      "cell_type": "markdown",
      "metadata": {
        "id": "view-in-github",
        "colab_type": "text"
      },
      "source": [
        "<a href=\"https://colab.research.google.com/github/Rakeshnaidu03/Rakesh-Chanda/blob/main/ICP2.ipynb\" target=\"_parent\"><img src=\"https://colab.research.google.com/assets/colab-badge.svg\" alt=\"Open In Colab\"/></a>"
      ]
    },
    {
      "cell_type": "code",
      "execution_count": 21,
      "metadata": {
        "colab": {
          "base_uri": "https://localhost:8080/"
        },
        "id": "HZh46AA_Gnak",
        "outputId": "543a6cf2-20ce-42ae-8769-6928aea6c5ed"
      },
      "outputs": [
        {
          "output_type": "stream",
          "name": "stdout",
          "text": [
            "Sorted Ages: [19, 19, 20, 22, 24, 24, 24, 25, 25, 26, 19, 26]\n",
            "Min Age: 19\n",
            "Max Age: 26\n",
            "Median Age: 24.0\n",
            "Average Age: 22.75\n",
            "Age Range: 7\n"
          ]
        }
      ],
      "source": [
        "ages = [19, 22, 19, 24, 20, 25, 26, 24, 25, 24]\n",
        "\n",
        "# Sort the list\n",
        "ages.sort()\n",
        "\n",
        "# Find the min and max age\n",
        "min_age = ages[0]\n",
        "max_age = ages[-1]\n",
        "\n",
        "# Add the min and max age again to the list\n",
        "ages.extend([min_age, max_age])\n",
        "\n",
        "# Find the median age\n",
        "mid_index = len(ages) // 2\n",
        "if len(ages) % 2 == 0:\n",
        "    median_age = (ages[mid_index - 1] + ages[mid_index]) / 2\n",
        "else:\n",
        "    median_age = ages[mid_index]\n",
        "\n",
        "# Find the average age\n",
        "average_age = sum(ages) / len(ages)\n",
        "\n",
        "# Find the range of ages\n",
        "age_range = max_age - min_age\n",
        "\n",
        "print(\"Sorted Ages:\", ages)\n",
        "print(\"Min Age:\", min_age)\n",
        "print(\"Max Age:\", max_age)\n",
        "print(\"Median Age:\", median_age)\n",
        "print(\"Average Age:\", average_age)\n",
        "print(\"Age Range:\", age_range)\n"
      ]
    },
    {
      "cell_type": "code",
      "source": [
        "# Create an empty dictionary called dog\n",
        "dog = {}\n",
        "\n",
        "# Add name, color, breed, legs, age to the dog dictionary\n",
        "dog[\"name\"] = \"Buddy\"\n",
        "dog[\"color\"] = \"Brown\"\n",
        "dog[\"breed\"] = \"Golden Retriever\"\n",
        "dog[\"legs\"] = 4\n",
        "dog[\"age\"] = 3\n",
        "\n",
        "# Create a student dictionary and add various keys\n",
        "student = {\n",
        "    \"first_name\": \"John\",\n",
        "    \"last_name\": \"Doe\",\n",
        "    \"gender\": \"Male\",\n",
        "    \"age\": 25,\n",
        "    \"marital_status\": \"Single\",\n",
        "    \"skills\": [\"Python\", \"JavaScript\"],\n",
        "    \"country\": \"USA\",\n",
        "    \"city\": \"New York\",\n",
        "    \"address\": \"123 Main St\"\n",
        "}\n",
        "\n",
        "# Get the length of the student dictionary\n",
        "student_length = len(student)\n",
        "\n",
        "# Get the value of skills and check the data type\n",
        "skills_value = student[\"skills\"]\n",
        "skills_data_type = type(skills_value)\n",
        "\n",
        "# Modify the skills values by adding one or two skills\n",
        "student[\"skills\"].extend([\"HTML\", \"CSS\"])\n",
        "\n",
        "# Get the dictionary keys as a list\n",
        "keys_list = list(student.keys())\n",
        "\n",
        "# Get the dictionary values as a list\n",
        "values_list = list(student.values())\n",
        "\n",
        "# Print the results\n",
        "print(\"Dog Dictionary:\", dog)\n",
        "print(\"Student Dictionary:\", student)\n",
        "print(\"Length of Student Dictionary:\", student_length)\n",
        "print(\"Data type of 'skills' value:\", skills_data_type)\n",
        "print(\"Updated Student Dictionary:\", student)\n",
        "print(\"Dictionary Keys List:\", keys_list)\n",
        "print(\"Dictionary Values List:\", values_list)\n"
      ],
      "metadata": {
        "colab": {
          "base_uri": "https://localhost:8080/"
        },
        "id": "rBZQ4nTKHwym",
        "outputId": "2893d2a4-5581-442c-9dce-824d9a2ab57b"
      },
      "execution_count": 5,
      "outputs": [
        {
          "output_type": "stream",
          "name": "stdout",
          "text": [
            "Dog Dictionary: {'name': 'Buddy', 'color': 'Brown', 'breed': 'Golden Retriever', 'legs': 4, 'age': 3}\n",
            "Student Dictionary: {'first_name': 'John', 'last_name': 'Doe', 'gender': 'Male', 'age': 25, 'marital_status': 'Single', 'skills': ['Python', 'JavaScript', 'HTML', 'CSS'], 'country': 'USA', 'city': 'New York', 'address': '123 Main St'}\n",
            "Length of Student Dictionary: 9\n",
            "Data type of 'skills' value: <class 'list'>\n",
            "Updated Student Dictionary: {'first_name': 'John', 'last_name': 'Doe', 'gender': 'Male', 'age': 25, 'marital_status': 'Single', 'skills': ['Python', 'JavaScript', 'HTML', 'CSS'], 'country': 'USA', 'city': 'New York', 'address': '123 Main St'}\n",
            "Dictionary Keys List: ['first_name', 'last_name', 'gender', 'age', 'marital_status', 'skills', 'country', 'city', 'address']\n",
            "Dictionary Values List: ['John', 'Doe', 'Male', 25, 'Single', ['Python', 'JavaScript', 'HTML', 'CSS'], 'USA', 'New York', '123 Main St']\n"
          ]
        }
      ]
    },
    {
      "cell_type": "code",
      "source": [
        "it_companies = {'Facebook', 'Google', 'Microsoft', 'Apple', 'IBM', 'Oracle', 'Amazon'}\n",
        "print(len(it_companies))\n",
        "it_companies.add('Twitter')\n",
        "it_companies.update(['Netflix', 'Snapchat'])\n",
        "it_companies.remove('Oracle')\n",
        "it_companies.discard('IBM')\n",
        "A = {19, 22, 24, 20, 25, 26}\n",
        "B = {19, 22, 20, 25, 26, 24, 28, 27}\n",
        "print(A.union(B))\n",
        "print(A.intersection(B))\n",
        "print(A.issubset(B))\n",
        "print(A.isdisjoint(B))\n",
        "A.union(B)\n",
        "B.union(A)\n",
        "print(A.symmetric_difference(B))\n",
        "del A\n",
        "del B\n",
        "ages = [22, 19, 24, 25, 26, 24, 25, 24]\n",
        "age_set = set(ages)\n",
        "print(len(ages))\n",
        "print(len(age_set))\n"
      ],
      "metadata": {
        "colab": {
          "base_uri": "https://localhost:8080/"
        },
        "id": "k-F0iM9XI7aZ",
        "outputId": "be4ff3ba-76b6-4831-8a69-473e5d0ee0f6"
      },
      "execution_count": 22,
      "outputs": [
        {
          "output_type": "stream",
          "name": "stdout",
          "text": [
            "7\n",
            "{19, 20, 22, 24, 25, 26, 27, 28}\n",
            "{19, 20, 22, 24, 25, 26}\n",
            "True\n",
            "False\n",
            "{27, 28}\n",
            "8\n",
            "5\n"
          ]
        }
      ]
    },
    {
      "cell_type": "code",
      "source": [
        "class Employee:\n",
        "    num_employees = 0\n",
        "\n",
        "    def __init__(self, name, family, salary, department):\n",
        "        self.name = name\n",
        "        self.family = family\n",
        "        self.salary = salary\n",
        "        self.department = department\n",
        "        Employee.num_employees += 1\n",
        "\n",
        "    def average_salary(self):\n",
        "        return self.salary / Employee.num_employees\n",
        "\n",
        "class FulltimeEmployee(Employee):\n",
        "    pass\n",
        "\n",
        "# Creating instances of Employee and FulltimeEmployee classes\n",
        "employee1 = Employee(\"John Doe\", \"Spouse\", 60000, \"HR\")\n",
        "employee2 = Employee(\"Jane Smith\", \"Child\", 50000, \"IT\")\n",
        "fulltime_employee1 = FulltimeEmployee(\"Alex Johnson\", \"Spouse\", 75000, \"Finance\")\n",
        "fulltime_employee2 = FulltimeEmployee(\"Eva Williams\", \"Child\", 70000, \"Marketing\")\n",
        "\n",
        "# Calling member functions\n",
        "print(\"Average Salary:\", employee1.average_salary())\n",
        "print(\"Average Salary:\", fulltime_employee1.average_salary())\n",
        "\n",
        "# Printing the number of employees\n",
        "print(\"Number of Employees:\", Employee.num_employees)\n"
      ],
      "metadata": {
        "colab": {
          "base_uri": "https://localhost:8080/"
        },
        "id": "CSFasVHjMksT",
        "outputId": "85c7d779-7fbf-4514-f902-e49a0193ac8d"
      },
      "execution_count": 13,
      "outputs": [
        {
          "output_type": "stream",
          "name": "stdout",
          "text": [
            "Average Salary: 15000.0\n",
            "Average Salary: 18750.0\n",
            "Number of Employees: 4\n"
          ]
        }
      ]
    }
  ]
}